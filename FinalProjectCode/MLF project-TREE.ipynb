{
 "cells": [
  {
   "cell_type": "code",
   "execution_count": 30,
   "metadata": {},
   "outputs": [],
   "source": [
    "from sklearn.preprocessing import StandardScaler\n",
    "from sklearn.decomposition import PCA\n",
    "from sklearn.tree import DecisionTreeClassifier\n",
    "from sklearn.pipeline import make_pipeline\n",
    "from sklearn.metrics import confusion_matrix\n",
    "import matplotlib.pyplot as plt\n",
    "import numpy as np\n",
    "import pandas as pd\n",
    "from sklearn.model_selection import GridSearchCV\n",
    "from sklearn.model_selection import train_test_split"
   ]
  },
  {
   "cell_type": "markdown",
   "metadata": {},
   "source": [
    "# Preprocessing "
   ]
  },
  {
   "cell_type": "code",
   "execution_count": 33,
   "metadata": {},
   "outputs": [
    {
     "name": "stdout",
     "output_type": "stream",
     "text": [
      "(11605, 13)\n"
     ]
    },
    {
     "data": {
      "text/html": [
       "<div>\n",
       "<style scoped>\n",
       "    .dataframe tbody tr th:only-of-type {\n",
       "        vertical-align: middle;\n",
       "    }\n",
       "\n",
       "    .dataframe tbody tr th {\n",
       "        vertical-align: top;\n",
       "    }\n",
       "\n",
       "    .dataframe thead th {\n",
       "        text-align: right;\n",
       "    }\n",
       "</style>\n",
       "<table border=\"1\" class=\"dataframe\">\n",
       "  <thead>\n",
       "    <tr style=\"text-align: right;\">\n",
       "      <th></th>\n",
       "      <th>Unnamed: 0</th>\n",
       "      <th>time</th>\n",
       "      <th>asset</th>\n",
       "      <th>MFI</th>\n",
       "      <th>SMA5</th>\n",
       "      <th>SMA10</th>\n",
       "      <th>MOM</th>\n",
       "      <th>ROC</th>\n",
       "      <th>ATR</th>\n",
       "      <th>BETA</th>\n",
       "      <th>CCI</th>\n",
       "      <th>SENTI</th>\n",
       "      <th>Label</th>\n",
       "    </tr>\n",
       "  </thead>\n",
       "  <tbody>\n",
       "    <tr>\n",
       "      <th>0</th>\n",
       "      <td>0</td>\n",
       "      <td>2016-01-04</td>\n",
       "      <td>600000.XSHG</td>\n",
       "      <td>26.206273</td>\n",
       "      <td>11.976</td>\n",
       "      <td>12.050</td>\n",
       "      <td>-0.14</td>\n",
       "      <td>-1.183432</td>\n",
       "      <td>0.352271</td>\n",
       "      <td>0.524071</td>\n",
       "      <td>-99.737533</td>\n",
       "      <td>30.666667</td>\n",
       "      <td>0</td>\n",
       "    </tr>\n",
       "    <tr>\n",
       "      <th>1</th>\n",
       "      <td>1</td>\n",
       "      <td>2016-01-04</td>\n",
       "      <td>600004.XSHG</td>\n",
       "      <td>47.764056</td>\n",
       "      <td>9.138</td>\n",
       "      <td>9.249</td>\n",
       "      <td>-0.02</td>\n",
       "      <td>-0.217865</td>\n",
       "      <td>0.211334</td>\n",
       "      <td>0.244056</td>\n",
       "      <td>39.855072</td>\n",
       "      <td>0.000000</td>\n",
       "      <td>0</td>\n",
       "    </tr>\n",
       "    <tr>\n",
       "      <th>2</th>\n",
       "      <td>2</td>\n",
       "      <td>2016-01-04</td>\n",
       "      <td>600008.XSHG</td>\n",
       "      <td>18.628693</td>\n",
       "      <td>4.854</td>\n",
       "      <td>4.908</td>\n",
       "      <td>-0.15</td>\n",
       "      <td>-3.054990</td>\n",
       "      <td>0.118358</td>\n",
       "      <td>0.205416</td>\n",
       "      <td>-77.651515</td>\n",
       "      <td>75.000000</td>\n",
       "      <td>0</td>\n",
       "    </tr>\n",
       "    <tr>\n",
       "      <th>3</th>\n",
       "      <td>3</td>\n",
       "      <td>2016-01-04</td>\n",
       "      <td>600015.XSHG</td>\n",
       "      <td>83.146985</td>\n",
       "      <td>8.978</td>\n",
       "      <td>8.976</td>\n",
       "      <td>0.65</td>\n",
       "      <td>7.611241</td>\n",
       "      <td>0.338147</td>\n",
       "      <td>0.161472</td>\n",
       "      <td>93.137255</td>\n",
       "      <td>6.380300</td>\n",
       "      <td>0</td>\n",
       "    </tr>\n",
       "    <tr>\n",
       "      <th>4</th>\n",
       "      <td>4</td>\n",
       "      <td>2016-01-04</td>\n",
       "      <td>600028.XSHG</td>\n",
       "      <td>24.242781</td>\n",
       "      <td>3.958</td>\n",
       "      <td>3.985</td>\n",
       "      <td>-0.05</td>\n",
       "      <td>-1.250000</td>\n",
       "      <td>0.061401</td>\n",
       "      <td>0.473047</td>\n",
       "      <td>-17.156863</td>\n",
       "      <td>7.392900</td>\n",
       "      <td>0</td>\n",
       "    </tr>\n",
       "  </tbody>\n",
       "</table>\n",
       "</div>"
      ],
      "text/plain": [
       "   Unnamed: 0       time        asset        MFI    SMA5   SMA10   MOM  \\\n",
       "0           0 2016-01-04  600000.XSHG  26.206273  11.976  12.050 -0.14   \n",
       "1           1 2016-01-04  600004.XSHG  47.764056   9.138   9.249 -0.02   \n",
       "2           2 2016-01-04  600008.XSHG  18.628693   4.854   4.908 -0.15   \n",
       "3           3 2016-01-04  600015.XSHG  83.146985   8.978   8.976  0.65   \n",
       "4           4 2016-01-04  600028.XSHG  24.242781   3.958   3.985 -0.05   \n",
       "\n",
       "        ROC       ATR      BETA        CCI      SENTI  Label  \n",
       "0 -1.183432  0.352271  0.524071 -99.737533  30.666667      0  \n",
       "1 -0.217865  0.211334  0.244056  39.855072   0.000000      0  \n",
       "2 -3.054990  0.118358  0.205416 -77.651515  75.000000      0  \n",
       "3  7.611241  0.338147  0.161472  93.137255   6.380300      0  \n",
       "4 -1.250000  0.061401  0.473047 -17.156863   7.392900      0  "
      ]
     },
     "execution_count": 33,
     "metadata": {},
     "output_type": "execute_result"
    }
   ],
   "source": [
    "df = pd.read_excel('feature_new.xlsx')\n",
    "df1 = df.dropna(axis=0)\n",
    "print(df1.shape)\n",
    "df1.head()"
   ]
  },
  {
   "cell_type": "code",
   "execution_count": 34,
   "metadata": {},
   "outputs": [
    {
     "data": {
      "text/html": [
       "<div>\n",
       "<style scoped>\n",
       "    .dataframe tbody tr th:only-of-type {\n",
       "        vertical-align: middle;\n",
       "    }\n",
       "\n",
       "    .dataframe tbody tr th {\n",
       "        vertical-align: top;\n",
       "    }\n",
       "\n",
       "    .dataframe thead th {\n",
       "        text-align: right;\n",
       "    }\n",
       "</style>\n",
       "<table border=\"1\" class=\"dataframe\">\n",
       "  <thead>\n",
       "    <tr style=\"text-align: right;\">\n",
       "      <th></th>\n",
       "      <th>MFI</th>\n",
       "      <th>SMA5</th>\n",
       "      <th>SMA10</th>\n",
       "      <th>MOM</th>\n",
       "      <th>ROC</th>\n",
       "      <th>ATR</th>\n",
       "      <th>BETA</th>\n",
       "      <th>CCI</th>\n",
       "    </tr>\n",
       "  </thead>\n",
       "  <tbody>\n",
       "    <tr>\n",
       "      <th>8063</th>\n",
       "      <td>60.216461</td>\n",
       "      <td>3.818</td>\n",
       "      <td>3.814</td>\n",
       "      <td>-0.22</td>\n",
       "      <td>-5.527638</td>\n",
       "      <td>0.174302</td>\n",
       "      <td>1.926743</td>\n",
       "      <td>-13.888889</td>\n",
       "    </tr>\n",
       "    <tr>\n",
       "      <th>4039</th>\n",
       "      <td>14.023137</td>\n",
       "      <td>4.336</td>\n",
       "      <td>4.494</td>\n",
       "      <td>-0.67</td>\n",
       "      <td>-14.346895</td>\n",
       "      <td>0.290551</td>\n",
       "      <td>0.796233</td>\n",
       "      <td>-93.607306</td>\n",
       "    </tr>\n",
       "    <tr>\n",
       "      <th>2292</th>\n",
       "      <td>58.629655</td>\n",
       "      <td>16.854</td>\n",
       "      <td>18.045</td>\n",
       "      <td>-5.34</td>\n",
       "      <td>-23.775601</td>\n",
       "      <td>1.503857</td>\n",
       "      <td>1.323628</td>\n",
       "      <td>22.747547</td>\n",
       "    </tr>\n",
       "    <tr>\n",
       "      <th>8365</th>\n",
       "      <td>0.000000</td>\n",
       "      <td>18.120</td>\n",
       "      <td>18.120</td>\n",
       "      <td>0.00</td>\n",
       "      <td>0.000000</td>\n",
       "      <td>0.000000</td>\n",
       "      <td>0.000000</td>\n",
       "      <td>0.000000</td>\n",
       "    </tr>\n",
       "    <tr>\n",
       "      <th>1337</th>\n",
       "      <td>49.639587</td>\n",
       "      <td>6.188</td>\n",
       "      <td>6.591</td>\n",
       "      <td>-1.32</td>\n",
       "      <td>-18.106996</td>\n",
       "      <td>0.536353</td>\n",
       "      <td>0.708719</td>\n",
       "      <td>-37.587413</td>\n",
       "    </tr>\n",
       "  </tbody>\n",
       "</table>\n",
       "</div>"
      ],
      "text/plain": [
       "            MFI    SMA5   SMA10   MOM        ROC       ATR      BETA  \\\n",
       "8063  60.216461   3.818   3.814 -0.22  -5.527638  0.174302  1.926743   \n",
       "4039  14.023137   4.336   4.494 -0.67 -14.346895  0.290551  0.796233   \n",
       "2292  58.629655  16.854  18.045 -5.34 -23.775601  1.503857  1.323628   \n",
       "8365   0.000000  18.120  18.120  0.00   0.000000  0.000000  0.000000   \n",
       "1337  49.639587   6.188   6.591 -1.32 -18.106996  0.536353  0.708719   \n",
       "\n",
       "            CCI  \n",
       "8063 -13.888889  \n",
       "4039 -93.607306  \n",
       "2292  22.747547  \n",
       "8365   0.000000  \n",
       "1337 -37.587413  "
      ]
     },
     "execution_count": 34,
     "metadata": {},
     "output_type": "execute_result"
    }
   ],
   "source": [
    "## other features\n",
    "X1, y1 = df1.iloc[:, 3:-2], df1.iloc[:, -1]\n",
    "\n",
    "X1_train, X1_test, y1_train, y1_test =\\\n",
    "    train_test_split(X1, y1, \n",
    "                     test_size=0.3, \n",
    "                     random_state=1, \n",
    "                     stratify=y1)\n",
    "X1_train.head()"
   ]
  },
  {
   "cell_type": "code",
   "execution_count": 35,
   "metadata": {},
   "outputs": [
    {
     "data": {
      "text/html": [
       "<div>\n",
       "<style scoped>\n",
       "    .dataframe tbody tr th:only-of-type {\n",
       "        vertical-align: middle;\n",
       "    }\n",
       "\n",
       "    .dataframe tbody tr th {\n",
       "        vertical-align: top;\n",
       "    }\n",
       "\n",
       "    .dataframe thead th {\n",
       "        text-align: right;\n",
       "    }\n",
       "</style>\n",
       "<table border=\"1\" class=\"dataframe\">\n",
       "  <thead>\n",
       "    <tr style=\"text-align: right;\">\n",
       "      <th></th>\n",
       "      <th>MFI</th>\n",
       "      <th>SMA5</th>\n",
       "      <th>SMA10</th>\n",
       "      <th>MOM</th>\n",
       "      <th>ROC</th>\n",
       "      <th>ATR</th>\n",
       "      <th>BETA</th>\n",
       "      <th>CCI</th>\n",
       "      <th>SENTI</th>\n",
       "    </tr>\n",
       "  </thead>\n",
       "  <tbody>\n",
       "    <tr>\n",
       "      <th>8063</th>\n",
       "      <td>60.216461</td>\n",
       "      <td>3.818</td>\n",
       "      <td>3.814</td>\n",
       "      <td>-0.22</td>\n",
       "      <td>-5.527638</td>\n",
       "      <td>0.174302</td>\n",
       "      <td>1.926743</td>\n",
       "      <td>-13.888889</td>\n",
       "      <td>9.957400</td>\n",
       "    </tr>\n",
       "    <tr>\n",
       "      <th>4039</th>\n",
       "      <td>14.023137</td>\n",
       "      <td>4.336</td>\n",
       "      <td>4.494</td>\n",
       "      <td>-0.67</td>\n",
       "      <td>-14.346895</td>\n",
       "      <td>0.290551</td>\n",
       "      <td>0.796233</td>\n",
       "      <td>-93.607306</td>\n",
       "      <td>-89.000000</td>\n",
       "    </tr>\n",
       "    <tr>\n",
       "      <th>2292</th>\n",
       "      <td>58.629655</td>\n",
       "      <td>16.854</td>\n",
       "      <td>18.045</td>\n",
       "      <td>-5.34</td>\n",
       "      <td>-23.775601</td>\n",
       "      <td>1.503857</td>\n",
       "      <td>1.323628</td>\n",
       "      <td>22.747547</td>\n",
       "      <td>48.000000</td>\n",
       "    </tr>\n",
       "    <tr>\n",
       "      <th>8365</th>\n",
       "      <td>0.000000</td>\n",
       "      <td>18.120</td>\n",
       "      <td>18.120</td>\n",
       "      <td>0.00</td>\n",
       "      <td>0.000000</td>\n",
       "      <td>0.000000</td>\n",
       "      <td>0.000000</td>\n",
       "      <td>0.000000</td>\n",
       "      <td>57.863629</td>\n",
       "    </tr>\n",
       "    <tr>\n",
       "      <th>1337</th>\n",
       "      <td>49.639587</td>\n",
       "      <td>6.188</td>\n",
       "      <td>6.591</td>\n",
       "      <td>-1.32</td>\n",
       "      <td>-18.106996</td>\n",
       "      <td>0.536353</td>\n",
       "      <td>0.708719</td>\n",
       "      <td>-37.587413</td>\n",
       "      <td>25.792200</td>\n",
       "    </tr>\n",
       "  </tbody>\n",
       "</table>\n",
       "</div>"
      ],
      "text/plain": [
       "            MFI    SMA5   SMA10   MOM        ROC       ATR      BETA  \\\n",
       "8063  60.216461   3.818   3.814 -0.22  -5.527638  0.174302  1.926743   \n",
       "4039  14.023137   4.336   4.494 -0.67 -14.346895  0.290551  0.796233   \n",
       "2292  58.629655  16.854  18.045 -5.34 -23.775601  1.503857  1.323628   \n",
       "8365   0.000000  18.120  18.120  0.00   0.000000  0.000000  0.000000   \n",
       "1337  49.639587   6.188   6.591 -1.32 -18.106996  0.536353  0.708719   \n",
       "\n",
       "            CCI      SENTI  \n",
       "8063 -13.888889   9.957400  \n",
       "4039 -93.607306 -89.000000  \n",
       "2292  22.747547  48.000000  \n",
       "8365   0.000000  57.863629  \n",
       "1337 -37.587413  25.792200  "
      ]
     },
     "execution_count": 35,
     "metadata": {},
     "output_type": "execute_result"
    }
   ],
   "source": [
    "## other + sentiment features\n",
    "X2, y2 = df1.iloc[:, 3:-1], df1.iloc[:, -1]\n",
    "\n",
    "X2_train, X2_test, y2_train, y2_test =\\\n",
    "    train_test_split(X2, y2, \n",
    "                     test_size=0.3, \n",
    "                     random_state=1, \n",
    "                     stratify=y2)\n",
    "X2_train.head()"
   ]
  },
  {
   "cell_type": "code",
   "execution_count": 36,
   "metadata": {},
   "outputs": [],
   "source": [
    "## only sentiment feature\n",
    "X3, y3 = df1.iloc[:, 11], df1.iloc[:, -1]\n",
    "\n",
    "X3_train, X3_test, y3_train, y3_test =\\\n",
    "    train_test_split(X3, y3, \n",
    "                     test_size=0.3, \n",
    "                     random_state=1, \n",
    "                     stratify=y3)\n",
    "X3_train, X3_test, y3_train, y3_test = np.array(X3_train),np.array(X3_test),np.array(y3_train),np.array(y3_test)\n",
    "X3_train = X3_train.reshape(-1,1)\n",
    "X3_test = X3_test.reshape(-1,1)\n",
    "y3_train = y3_train.reshape(-1,1)\n",
    "y3_test = y3_test.reshape(-1,1)"
   ]
  },
  {
   "cell_type": "markdown",
   "metadata": {},
   "source": [
    "# Tree"
   ]
  },
  {
   "cell_type": "markdown",
   "metadata": {},
   "source": [
    "### Other features"
   ]
  },
  {
   "cell_type": "code",
   "execution_count": 37,
   "metadata": {},
   "outputs": [],
   "source": [
    "pipe_tree = make_pipeline(StandardScaler(),\n",
    "                        DecisionTreeClassifier(criterion='gini',random_state=1))"
   ]
  },
  {
   "cell_type": "code",
   "execution_count": 38,
   "metadata": {},
   "outputs": [
    {
     "name": "stdout",
     "output_type": "stream",
     "text": [
      "0.5573064138864952\n",
      "{'decisiontreeclassifier__max_depth': 6}\n"
     ]
    }
   ],
   "source": [
    "param_grid = [{'decisiontreeclassifier__max_depth': [1, 2, 3, 4, 5, 6, 7, None]}]\n",
    "\n",
    "gs1 = GridSearchCV(estimator=pipe_tree, \n",
    "                  param_grid=param_grid, \n",
    "                  scoring='accuracy', \n",
    "                  cv=10,\n",
    "                  n_jobs=-1)\n",
    "gs1 = gs1.fit(X1_train, y1_train)\n",
    "print(gs1.best_score_)\n",
    "print(gs1.best_params_)"
   ]
  },
  {
   "cell_type": "code",
   "execution_count": 39,
   "metadata": {},
   "outputs": [],
   "source": [
    "pipe_tree = make_pipeline(StandardScaler(),\n",
    "                        DecisionTreeClassifier(max_depth=6,criterion='gini',random_state=1))"
   ]
  },
  {
   "cell_type": "code",
   "execution_count": 40,
   "metadata": {},
   "outputs": [],
   "source": [
    "pipe_tree.fit(X1_train, y1_train)\n",
    "y1_pred = pipe_tree.predict(X1_test)\n",
    "confmat = confusion_matrix(y_true=y1_test, y_pred=y1_pred)"
   ]
  },
  {
   "cell_type": "code",
   "execution_count": 41,
   "metadata": {},
   "outputs": [
    {
     "data": {
      "image/png": "[encoded data removed]",
      "text/plain": [
       "<Figure size 180x180 with 1 Axes>"
      ]
     },
     "metadata": {
      "needs_background": "light"
     },
     "output_type": "display_data"
    }
   ],
   "source": [
    "fig, ax = plt.subplots(figsize=(2.5, 2.5))\n",
    "ax.matshow(confmat, cmap=plt.cm.Blues, alpha=0.3)\n",
    "for i in range(confmat.shape[0]):\n",
    "    for j in range(confmat.shape[1]):\n",
    "        ax.text(x=j, y=i, s=confmat[i, j], va='center', ha='center')\n",
    "\n",
    "plt.xlabel('Predicted label')\n",
    "plt.ylabel('True label')\n",
    "\n",
    "plt.tight_layout()\n",
    "#plt.savefig('images/06_09.png', dpi=300)\n",
    "plt.show()"
   ]
  },
  {
   "cell_type": "markdown",
   "metadata": {},
   "source": [
    "### Other + sentiment features"
   ]
  },
  {
   "cell_type": "code",
   "execution_count": 42,
   "metadata": {},
   "outputs": [
    {
     "name": "stdout",
     "output_type": "stream",
     "text": [
      "0.560507201772744\n",
      "{'decisiontreeclassifier__max_depth': 6}\n"
     ]
    }
   ],
   "source": [
    "gs2 = GridSearchCV(estimator=pipe_tree, \n",
    "                  param_grid=param_grid, \n",
    "                  scoring='accuracy', \n",
    "                  cv=10,\n",
    "                  n_jobs=-1)\n",
    "gs2 = gs2.fit(X2_train, y2_train)\n",
    "print(gs2.best_score_)\n",
    "print(gs2.best_params_)"
   ]
  },
  {
   "cell_type": "code",
   "execution_count": 43,
   "metadata": {},
   "outputs": [],
   "source": [
    "pipe_tree = make_pipeline(StandardScaler(),\n",
    "                        DecisionTreeClassifier(max_depth=6,criterion='gini',random_state=1))"
   ]
  },
  {
   "cell_type": "code",
   "execution_count": 44,
   "metadata": {},
   "outputs": [],
   "source": [
    "pipe_tree.fit(X2_train, y2_train)\n",
    "y2_pred = pipe_tree.predict(X2_test)\n",
    "confmat = confusion_matrix(y_true=y2_test, y_pred=y2_pred)"
   ]
  },
  {
   "cell_type": "code",
   "execution_count": 45,
   "metadata": {},
   "outputs": [
    {
     "data": {
      "image/png": "[encoded data removed]",
      "text/plain": [
       "<Figure size 180x180 with 1 Axes>"
      ]
     },
     "metadata": {
      "needs_background": "light"
     },
     "output_type": "display_data"
    }
   ],
   "source": [
    "fig, ax = plt.subplots(figsize=(2.5, 2.5))\n",
    "ax.matshow(confmat, cmap=plt.cm.Blues, alpha=0.3)\n",
    "for i in range(confmat.shape[0]):\n",
    "    for j in range(confmat.shape[1]):\n",
    "        ax.text(x=j, y=i, s=confmat[i, j], va='center', ha='center')\n",
    "\n",
    "plt.xlabel('Predicted label')\n",
    "plt.ylabel('True label')\n",
    "\n",
    "plt.tight_layout()\n",
    "#plt.savefig('images/06_09.png', dpi=300)\n",
    "plt.show()"
   ]
  },
  {
   "cell_type": "markdown",
   "metadata": {},
   "source": [
    "### Only sentiment feature"
   ]
  },
  {
   "cell_type": "code",
   "execution_count": 46,
   "metadata": {},
   "outputs": [
    {
     "name": "stdout",
     "output_type": "stream",
     "text": [
      "0.5277606795518897\n",
      "{'decisiontreeclassifier__max_depth': 3}\n"
     ]
    }
   ],
   "source": [
    "gs3 = GridSearchCV(estimator=pipe_tree, \n",
    "                  param_grid=param_grid, \n",
    "                  scoring='accuracy', \n",
    "                  cv=10,\n",
    "                  n_jobs=-1)\n",
    "gs3 = gs3.fit(X3_train, y3_train)\n",
    "print(gs3.best_score_)\n",
    "print(gs3.best_params_)"
   ]
  },
  {
   "cell_type": "code",
   "execution_count": 47,
   "metadata": {},
   "outputs": [],
   "source": [
    "pipe_tree = make_pipeline(StandardScaler(),\n",
    "                        DecisionTreeClassifier(max_depth=3,criterion='gini',random_state=1))"
   ]
  },
  {
   "cell_type": "code",
   "execution_count": 48,
   "metadata": {},
   "outputs": [],
   "source": [
    "pipe_tree.fit(X3_train, y3_train)\n",
    "y3_pred = pipe_tree.predict(X3_test)\n",
    "confmat = confusion_matrix(y_true=y3_test, y_pred=y3_pred)"
   ]
  },
  {
   "cell_type": "code",
   "execution_count": 49,
   "metadata": {},
   "outputs": [
    {
     "data": {
      "image/png": "[encoded data removed]",
      "text/plain": [
       "<Figure size 180x180 with 1 Axes>"
      ]
     },
     "metadata": {
      "needs_background": "light"
     },
     "output_type": "display_data"
    }
   ],
   "source": [
    "fig, ax = plt.subplots(figsize=(2.5, 2.5))\n",
    "ax.matshow(confmat, cmap=plt.cm.Blues, alpha=0.3)\n",
    "for i in range(confmat.shape[0]):\n",
    "    for j in range(confmat.shape[1]):\n",
    "        ax.text(x=j, y=i, s=confmat[i, j], va='center', ha='center')\n",
    "\n",
    "plt.xlabel('Predicted label')\n",
    "plt.ylabel('True label')\n",
    "\n",
    "plt.tight_layout()\n",
    "#plt.savefig('images/06_09.png', dpi=300)\n",
    "plt.show()"
   ]
  },
  {
   "cell_type": "code",
   "execution_count": null,
   "metadata": {},
   "outputs": [],
   "source": []
  }
 ],
 "metadata": {
  "kernelspec": {
   "display_name": "Python 3",
   "language": "python",
   "name": "python3"
  },
  "language_info": {
   "codemirror_mode": {
    "name": "ipython",
    "version": 3
   },
   "file_extension": ".py",
   "mimetype": "text/x-python",
   "name": "python",
   "nbconvert_exporter": "python",
   "pygments_lexer": "ipython3",
   "version": "3.7.3"
  }
 },
 "nbformat": 4,
 "nbformat_minor": 2
}
