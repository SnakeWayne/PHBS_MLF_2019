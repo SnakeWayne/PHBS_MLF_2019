{
 "cells": [
  {
   "cell_type": "code",
   "execution_count": 2,
   "metadata": {},
   "outputs": [
    {
     "name": "stdout",
     "output_type": "stream",
     "text": [
      "预处理操作 1000 次用时：\n",
      "set it:0.544847300000014911347535\n",
      "sorted it:2.133116200000017670390662\n",
      "\n",
      "in 操作 1000 次用时：\n",
      "list: 0.291190400000004956382327\n",
      "dict: 0.000170599999989917705534\n",
      "set: 0.000136800000007042399375\n",
      "sorted list: 0.169012300000019877188606\n"
     ]
    }
   ],
   "source": [
    "# coding=utf8\n",
    "__author__ = 'lfc'\n",
    "\n",
    "import timeit\n",
    "import random\n",
    "\n",
    "seq_len = 4  # 10 ** 4\n",
    "\n",
    "x = random.sample([i for i in range(10 ** 6)], 10 ** seq_len)\n",
    "w = dict()\n",
    "for i in x:\n",
    "    w[i] = 0\n",
    "y = set(x)\n",
    "z = sorted(x)\n",
    "\n",
    "n = 320170\n",
    "\n",
    "c = 1000\n",
    "\n",
    "\n",
    "def fx():\n",
    "    return n in x\n",
    "\n",
    "\n",
    "def fy():\n",
    "    return n in y\n",
    "\n",
    "def fw():\n",
    "    return n in w\n",
    "\n",
    "\n",
    "def fz():\n",
    "    return n in z\n",
    "\n",
    "\n",
    "def fn():\n",
    "    return set(x)\n",
    "\n",
    "\n",
    "def fs():\n",
    "    return sorted(x)\n",
    "\n",
    "\n",
    "print(\"预处理操作 %d 次用时：\" % c)\n",
    "print(\"set it:%.24f\" % timeit.timeit(fn, number=c))\n",
    "print( \"sorted it:%.24f\" % timeit.timeit(fs, number=c))\n",
    "print (\"\")\n",
    "print (\"in 操作 %d 次用时：\" % c)\n",
    "print (\"list: %.24f\" % timeit.timeit(fx, number=c))\n",
    "print (\"dict: %.24f\" % timeit.timeit(fw, number=c))\n",
    "print (\"set: %.24f\" % timeit.timeit(fy, number=c))\n",
    "print (\"sorted list: %.24f\" % timeit.timeit(fz, number=c))"
   ]
  },
  {
   "cell_type": "code",
   "execution_count": null,
   "metadata": {},
   "outputs": [],
   "source": []
  }
 ],
 "metadata": {
  "kernelspec": {
   "display_name": "Python 3",
   "language": "python",
   "name": "python3"
  },
  "language_info": {
   "codemirror_mode": {
    "name": "ipython",
    "version": 3
   },
   "file_extension": ".py",
   "mimetype": "text/x-python",
   "name": "python",
   "nbconvert_exporter": "python",
   "pygments_lexer": "ipython3",
   "version": "3.7.3"
  },
  "toc": {
   "base_numbering": 1,
   "nav_menu": {},
   "number_sections": true,
   "sideBar": true,
   "skip_h1_title": false,
   "title_cell": "Table of Contents",
   "title_sidebar": "Contents",
   "toc_cell": false,
   "toc_position": {},
   "toc_section_display": true,
   "toc_window_display": false
  }
 },
 "nbformat": 4,
 "nbformat_minor": 2
}
